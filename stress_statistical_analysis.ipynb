{
 "cells": [
  {
   "cell_type": "code",
   "execution_count": 1,
   "metadata": {},
   "outputs": [],
   "source": [
    "import pandas as pd\n",
    "import numpy as np\n",
    "import matplotlib.pyplot as plt\n",
    "from scipy.stats import ttest_ind"
   ]
  },
  {
   "cell_type": "code",
   "execution_count": 2,
   "metadata": {},
   "outputs": [],
   "source": [
    "stress10_df = pd.read_csv(\"cleaned_data/stress10-cleaned.csv\")\n",
    "stress25_df = pd.read_csv(\"cleaned_data/stress25-cleaned.csv\")\n",
    "stress50_df = pd.read_csv(\"cleaned_data/stress50-cleaned.csv\")\n",
    "\n",
    "nt_stress10_df = pd.read_csv(\"cleaned_data/nt_stress10-cleaned.csv\")\n",
    "nt_stress25_df = pd.read_csv(\"cleaned_data/nt_stress25-cleaned.csv\")\n",
    "nt_stress50_df = pd.read_csv(\"cleaned_data/nt_stress50-cleaned.csv\")\n",
    "\n",
    "expert_df = pd.read_csv(\"cleaned_data/stress_expert-cleaned.csv\")\n",
    "\n",
    "ex_stress10_df = expert_df[['deltas10', 'accuracy10', 'confidence10', 'answers10', 'time10']].copy()\n",
    "ex_stress25_df = expert_df[['deltas25', 'accuracy25', 'confidence25', 'answers25', 'time25']].copy()\n",
    "ex_stress50_df = expert_df[['deltas50', 'accuracy50', 'confidence50', 'answers50', 'time50']].copy()\n",
    "\n",
    "ex_stress10_df.columns = ['deltas', 'accuracy', 'confidence', 'answers', 'time']\n",
    "ex_stress25_df.columns = ['deltas', 'accuracy', 'confidence', 'answers', 'time']\n",
    "ex_stress50_df.columns = ['deltas', 'accuracy', 'confidence', 'answers', 'time']"
   ]
  },
  {
   "cell_type": "code",
   "execution_count": 3,
   "metadata": {},
   "outputs": [],
   "source": [
    "def parse_column_to_list(df, column_name):\n",
    "    return df[column_name].apply(eval)\n",
    "\n",
    "\n",
    "for df in [stress10_df, stress25_df, stress50_df, nt_stress10_df, nt_stress25_df, nt_stress50_df, ex_stress10_df, ex_stress25_df, ex_stress50_df]:\n",
    "    df['deltas'] = parse_column_to_list(df, 'deltas')\n",
    "    df['accuracy'] = parse_column_to_list(df, 'accuracy')\n",
    "    df['confidence'] = parse_column_to_list(df, 'confidence')\n",
    "    df['answers'] = parse_column_to_list(df, 'answers')\n",
    "\n",
    "    df['average_accuracy'] = df['accuracy'].apply(lambda x: sum(x) / len(x))"
   ]
  },
  {
   "cell_type": "markdown",
   "metadata": {},
   "source": [
    "# Trained TTests"
   ]
  },
  {
   "cell_type": "markdown",
   "metadata": {},
   "source": [
    "## TTest Trained 10 vs 50"
   ]
  },
  {
   "cell_type": "code",
   "execution_count": 6,
   "metadata": {},
   "outputs": [
    {
     "name": "stdout",
     "output_type": "stream",
     "text": [
      "T-statistic: -2.0147187239553044\n",
      "P-value: 0.0498078322707569\n"
     ]
    }
   ],
   "source": [
    "t_stat, p_value  = ttest_ind(stress10_df['average_accuracy'], stress50_df['average_accuracy'], equal_var=False)  # Welch's t-test\n",
    "\n",
    "# Output the results\n",
    "print(f\"T-statistic: {t_stat}\")\n",
    "print(f\"P-value: {p_value}\")"
   ]
  },
  {
   "cell_type": "markdown",
   "metadata": {},
   "source": [
    "## TTest Trained 10 vs 25"
   ]
  },
  {
   "cell_type": "code",
   "execution_count": 7,
   "metadata": {},
   "outputs": [
    {
     "name": "stdout",
     "output_type": "stream",
     "text": [
      "T-statistic: -1.524926598789336\n",
      "P-value: 0.1339252394522129\n"
     ]
    }
   ],
   "source": [
    "t_stat, p_value  = ttest_ind(stress10_df['average_accuracy'], stress25_df['average_accuracy'], equal_var=False)  # Welch's t-test\n",
    "\n",
    "# Output the results\n",
    "print(f\"T-statistic: {t_stat}\")\n",
    "print(f\"P-value: {p_value}\")"
   ]
  },
  {
   "cell_type": "markdown",
   "metadata": {},
   "source": [
    "## TTest Trained 25 vs 50"
   ]
  },
  {
   "cell_type": "code",
   "execution_count": 8,
   "metadata": {},
   "outputs": [
    {
     "name": "stdout",
     "output_type": "stream",
     "text": [
      "T-statistic: -0.5483913171970798\n",
      "P-value: 0.5859899115447387\n"
     ]
    }
   ],
   "source": [
    "t_stat, p_value  = ttest_ind(stress25_df['average_accuracy'], stress50_df['average_accuracy'], equal_var=False)  # Welch's t-test\n",
    "\n",
    "# Output the results\n",
    "print(f\"T-statistic: {t_stat}\")\n",
    "print(f\"P-value: {p_value}\")"
   ]
  },
  {
   "cell_type": "markdown",
   "metadata": {},
   "source": [
    "# Untrained TTests"
   ]
  },
  {
   "cell_type": "markdown",
   "metadata": {},
   "source": [
    "## TTest Untrained 10 vs 50"
   ]
  },
  {
   "cell_type": "code",
   "execution_count": 9,
   "metadata": {},
   "outputs": [
    {
     "name": "stdout",
     "output_type": "stream",
     "text": [
      "T-statistic: 0.14120361729949263\n",
      "P-value: 0.8884422234272996\n"
     ]
    }
   ],
   "source": [
    "t_stat, p_value  = ttest_ind(nt_stress10_df['average_accuracy'], nt_stress50_df['average_accuracy'], equal_var=False)  # Welch's t-test\n",
    "\n",
    "# Output the results\n",
    "print(f\"T-statistic: {t_stat}\")\n",
    "print(f\"P-value: {p_value}\")"
   ]
  },
  {
   "cell_type": "markdown",
   "metadata": {},
   "source": [
    "## TTest Untrained 10 vs 25"
   ]
  },
  {
   "cell_type": "code",
   "execution_count": 10,
   "metadata": {},
   "outputs": [
    {
     "name": "stdout",
     "output_type": "stream",
     "text": [
      "T-statistic: -2.516702360983143\n",
      "P-value: 0.015581196545228692\n"
     ]
    }
   ],
   "source": [
    "t_stat, p_value  = ttest_ind(nt_stress10_df['average_accuracy'], nt_stress25_df['average_accuracy'], equal_var=False)  # Welch's t-test\n",
    "\n",
    "# Output the results\n",
    "print(f\"T-statistic: {t_stat}\")\n",
    "print(f\"P-value: {p_value}\")"
   ]
  },
  {
   "cell_type": "markdown",
   "metadata": {},
   "source": [
    "## TTest Untrained 25 vs 50"
   ]
  },
  {
   "cell_type": "code",
   "execution_count": 11,
   "metadata": {},
   "outputs": [
    {
     "name": "stdout",
     "output_type": "stream",
     "text": [
      "T-statistic: 1.8230075818154603\n",
      "P-value: 0.07754864565434066\n"
     ]
    }
   ],
   "source": [
    "t_stat, p_value  = ttest_ind(nt_stress25_df['average_accuracy'], nt_stress50_df['average_accuracy'], equal_var=False)  # Welch's t-test\n",
    "\n",
    "# Output the results\n",
    "print(f\"T-statistic: {t_stat}\")\n",
    "print(f\"P-value: {p_value}\")"
   ]
  },
  {
   "cell_type": "markdown",
   "metadata": {},
   "source": [
    "# Expert"
   ]
  },
  {
   "cell_type": "markdown",
   "metadata": {},
   "source": [
    "## TTest Expert 10 vs 50"
   ]
  },
  {
   "cell_type": "code",
   "execution_count": 12,
   "metadata": {},
   "outputs": [
    {
     "name": "stdout",
     "output_type": "stream",
     "text": [
      "T-statistic: -1.7969558367777452\n",
      "P-value: 0.09545243951487466\n"
     ]
    }
   ],
   "source": [
    "t_stat, p_value  = ttest_ind(ex_stress10_df['average_accuracy'], ex_stress50_df['average_accuracy'], equal_var=False)  # Welch's t-test\n",
    "\n",
    "# Output the results\n",
    "print(f\"T-statistic: {t_stat}\")\n",
    "print(f\"P-value: {p_value}\")"
   ]
  },
  {
   "cell_type": "code",
   "execution_count": 13,
   "metadata": {},
   "outputs": [
    {
     "name": "stdout",
     "output_type": "stream",
     "text": [
      "T-statistic: -1.4130835473605547\n",
      "P-value: 0.1855371574143563\n"
     ]
    }
   ],
   "source": [
    "t_stat, p_value  = ttest_ind(ex_stress10_df['average_accuracy'], ex_stress25_df['average_accuracy'], equal_var=False)  # Welch's t-test\n",
    "\n",
    "# Output the results\n",
    "print(f\"T-statistic: {t_stat}\")\n",
    "print(f\"P-value: {p_value}\")"
   ]
  },
  {
   "cell_type": "code",
   "execution_count": 14,
   "metadata": {},
   "outputs": [
    {
     "name": "stdout",
     "output_type": "stream",
     "text": [
      "T-statistic: -0.7499999999999973\n",
      "P-value: 0.465188789341372\n"
     ]
    }
   ],
   "source": [
    "t_stat, p_value  = ttest_ind(ex_stress25_df['average_accuracy'], ex_stress50_df['average_accuracy'], equal_var=False)  # Welch's t-test\n",
    "\n",
    "# Output the results\n",
    "print(f\"T-statistic: {t_stat}\")\n",
    "print(f\"P-value: {p_value}\")"
   ]
  },
  {
   "cell_type": "markdown",
   "metadata": {},
   "source": [
    "# TTest All trained vs untrained"
   ]
  },
  {
   "cell_type": "code",
   "execution_count": 4,
   "metadata": {},
   "outputs": [
    {
     "name": "stdout",
     "output_type": "stream",
     "text": [
      "T-statistic: 3.4476160429865406\n",
      "P-value: 0.0007728479246328152\n"
     ]
    }
   ],
   "source": [
    "# Combine the average accuracy values for both experiments\n",
    "stress_averages = pd.concat([stress10_df['average_accuracy'], \n",
    "                             stress25_df['average_accuracy'], \n",
    "                             stress50_df['average_accuracy']])\n",
    "\n",
    "nt_stress_averages = pd.concat([nt_stress10_df['average_accuracy'], \n",
    "                                nt_stress25_df['average_accuracy'], \n",
    "                                nt_stress50_df['average_accuracy']])\n",
    "\n",
    "# Perform an independent samples t-test\n",
    "t_stat, p_value = ttest_ind(stress_averages, nt_stress_averages, equal_var=False)  # Welch's t-test\n",
    "\n",
    "# Output the t-statistic and p-value\n",
    "print(f\"T-statistic: {t_stat}\")\n",
    "print(f\"P-value: {p_value}\")\n"
   ]
  },
  {
   "cell_type": "markdown",
   "metadata": {},
   "source": [
    "# TTEST Expert vs Trained"
   ]
  },
  {
   "cell_type": "code",
   "execution_count": 5,
   "metadata": {},
   "outputs": [
    {
     "name": "stdout",
     "output_type": "stream",
     "text": [
      "T-statistic: -0.8852562490121257\n",
      "P-value: 0.3798116354285659\n"
     ]
    }
   ],
   "source": [
    "# Combine the average accuracy values for both experiments\n",
    "stress_averages = pd.concat([stress10_df['average_accuracy'], \n",
    "                             stress25_df['average_accuracy'], \n",
    "                             stress50_df['average_accuracy']])\n",
    "\n",
    "ex_stress_averages = pd.concat([ex_stress10_df['average_accuracy'], \n",
    "                                ex_stress25_df['average_accuracy'], \n",
    "                                ex_stress50_df['average_accuracy']])\n",
    "\n",
    "# Perform an independent samples t-test\n",
    "t_stat, p_value = ttest_ind(stress_averages, ex_stress_averages, equal_var=False)  # Welch's t-test\n",
    "\n",
    "# Output the t-statistic and p-value\n",
    "print(f\"T-statistic: {t_stat}\")\n",
    "print(f\"P-value: {p_value}\")"
   ]
  }
 ],
 "metadata": {
  "kernelspec": {
   "display_name": "Python 3",
   "language": "python",
   "name": "python3"
  },
  "language_info": {
   "codemirror_mode": {
    "name": "ipython",
    "version": 3
   },
   "file_extension": ".py",
   "mimetype": "text/x-python",
   "name": "python",
   "nbconvert_exporter": "python",
   "pygments_lexer": "ipython3",
   "version": "3.11.2"
  }
 },
 "nbformat": 4,
 "nbformat_minor": 2
}
