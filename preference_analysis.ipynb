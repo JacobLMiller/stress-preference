{
 "cells": [
  {
   "cell_type": "code",
   "execution_count": 9,
   "metadata": {},
   "outputs": [],
   "source": [
    "import json \n",
    "import pandas as pd"
   ]
  },
  {
   "cell_type": "code",
   "execution_count": 46,
   "metadata": {},
   "outputs": [],
   "source": [
    "df = pd.read_csv(\"n50-cleaned.csv\")"
   ]
  },
  {
   "cell_type": "code",
   "execution_count": 47,
   "metadata": {},
   "outputs": [
    {
     "data": {
      "text/plain": [
       "(25, 18)"
      ]
     },
     "execution_count": 47,
     "metadata": {},
     "output_type": "execute_result"
    }
   ],
   "source": [
    "df.shape"
   ]
  },
  {
   "cell_type": "code",
   "execution_count": 48,
   "metadata": {},
   "outputs": [
    {
     "data": {
      "text/plain": [
       "0     [2, 1, 2, 1, 2, 1, 1, 1, 1, 1, 1, 2, 2, 1, 1, ...\n",
       "1     [1, 2, 1, 1, 1, 1, 2, 1, 1, 1, 2, 1, 1, 2, 2, ...\n",
       "2     [2, 2, 1, 1, 2, 1, 1, 2, 2, 2, 1, 1, 2, 2, 1, ...\n",
       "3     [1, 1, 2, 1, 1, 1, 1, 1, 2, 1, 2, 2, 1, 1, 1, ...\n",
       "4     [1, 1, 2, 1, 2, 2, 1, 2, 1, 1, 2, 1, 1, 1, 2, ...\n",
       "5     [1, 2, 2, 2, 1, 1, 2, 1, 1, 2, 2, 1, 1, 1, 2, ...\n",
       "6     [1, 2, 2, 1, 1, 1, 1, 1, 1, 2, 1, 2, 2, 2, 2, ...\n",
       "7     [2, 1, 1, 2, 1, 2, 1, 2, 2, 1, 2, 2, 2, 2, 1, ...\n",
       "8     [2, 1, 2, 2, 1, 2, 1, 2, 1, 2, 2, 1, 2, 2, 1, ...\n",
       "9     [1, 2, 2, 1, 2, 2, 1, 1, 2, 1, 2, 2, 1, 2, 1, ...\n",
       "10    [1, 1, 1, 1, 1, 1, 1, 2, 2, 1, 1, 2, 1, 2, 2, ...\n",
       "11    [1, 1, 1, 2, 1, 1, 2, 2, 1, 2, 1, 2, 1, 2, 1, ...\n",
       "12    [1, 1, 1, 1, 2, 2, 1, 1, 2, 1, 1, 1, 1, 2, 2, ...\n",
       "13    [2, 1, 2, 2, 2, 2, 2, 2, 1, 1, 2, 2, 1, 1, 2, ...\n",
       "14    [2, 1, 1, 1, 1, 1, 2, 1, 1, 2, 2, 2, 2, 1, 1, ...\n",
       "15    [2, 1, 1, 2, 2, 2, 1, 1, 1, 2, 1, 1, 1, 1, 2, ...\n",
       "16    [1, 1, 2, 1, 2, 1, 2, 2, 2, 1, 2, 2, 1, 2, 1, ...\n",
       "17    [2, 2, 1, 1, 2, 1, 2, 1, 2, 2, 1, 1, 2, 2, 1, ...\n",
       "18    [2, 1, 1, 2, 1, 1, 1, 2, 2, 2, 1, 2, 1, 2, 1, ...\n",
       "19    [2, 1, 1, 2, 1, 2, 1, 2, 2, 2, 2, 2, 1, 1, 2, ...\n",
       "20    [1, 1, 2, 2, 1, 2, 2, 1, 1, 1, 1, 2, 1, 2, 1, ...\n",
       "21    [1, 2, 1, 2, 2, 2, 1, 1, 1, 2, 2, 2, 1, 2, 2, ...\n",
       "22    [1, 1, 2, 1, 1, 2, 1, 2, 2, 2, 2, 1, 1, 1, 1, ...\n",
       "23    [1, 1, 1, 2, 1, 2, 2, 1, 1, 2, 2, 1, 1, 2, 2, ...\n",
       "24    [2, 2, 1, 2, 2, 2, 1, 1, 1, 2, 1, 2, 2, 1, 2, ...\n",
       "Name: answers, dtype: object"
      ]
     },
     "execution_count": 48,
     "metadata": {},
     "output_type": "execute_result"
    }
   ],
   "source": [
    "df['answers']"
   ]
  },
  {
   "cell_type": "code",
   "execution_count": 49,
   "metadata": {},
   "outputs": [
    {
     "data": {
      "text/plain": [
       "0     [['g1_l40_a', 'g1_l65_b'], ['g3_l80_a', 'g3_l4...\n",
       "1     [['g5_l65_b', 'g5_l50_c'], ['g2_l40_c', 'g2_l7...\n",
       "2     [['g5_l40_a', 'g5_l80_c'], ['g2_l50_c', 'g2_l8...\n",
       "3     [['g1_l50_a', 'g1_l40_c'], ['g1_l55_c', 'g1_l4...\n",
       "4     [['g3_l70_b', 'g3_l45_a'], ['g4_l80_c', 'g4_l7...\n",
       "5     [['g5_l65_b', 'g5_l60_a'], ['g3_l80_c', 'g3_l7...\n",
       "6     [['g2_l60_c', 'g2_l65_a'], ['g5_l60_c', 'g5_l8...\n",
       "7     [['g3_l40_c', 'g3_l70_b'], ['g1_l55_c', 'g1_l5...\n",
       "8     [['g2_l40_a', 'g2_l75_b'], ['g5_l80_a', 'g5_l7...\n",
       "9     [['g3_l65_b', 'g3_l60_c'], ['g3_l50_a', 'g3_l7...\n",
       "10    [['g4_l80_a', 'g4_l40_b'], ['g2_l55_c', 'g2_l7...\n",
       "11    [['g1_l60_a', 'g1_l75_b'], ['g1_l65_a', 'g1_l4...\n",
       "12    [['g4_l70_b', 'g4_l70_a'], ['g3_l65_b', 'g3_l4...\n",
       "13    [['g1_l45_a', 'g1_l80_c'], ['g4_l65_a', 'g4_l4...\n",
       "14    [['g2_l40_b', 'g2_l70_c'], ['g1_l80_c', 'g1_l4...\n",
       "15    [['g4_l75_c', 'g4_l40_a'], ['g1_l45_b', 'g1_l7...\n",
       "16    [['g2_l45_b', 'g2_l80_a'], ['g4_l80_c', 'g4_l5...\n",
       "17    [['g3_l75_b', 'g3_l75_a'], ['g5_l65_a', 'g5_l4...\n",
       "18    [['g1_l80_b', 'g1_l45_c'], ['g4_l40_a', 'g4_l6...\n",
       "19    [['g4_l40_b', 'g4_l65_c'], ['g5_l45_a', 'g5_l4...\n",
       "20    [['g5_l75_b', 'g5_l45_a'], ['g3_l75_c', 'g3_l4...\n",
       "21    [['g3_l60_b', 'g3_l40_a'], ['g5_l40_b', 'g5_l5...\n",
       "22    [['g1_l75_b', 'g1_l50_c'], ['g3_l50_b', 'g3_l7...\n",
       "23    [['g5_l75_b', 'g5_l50_a'], ['g5_l80_c', 'g5_l8...\n",
       "24    [['g3_l55_c', 'g3_l75_b'], ['g1_l50_c', 'g1_l8...\n",
       "Name: drawings, dtype: object"
      ]
     },
     "execution_count": 49,
     "metadata": {},
     "output_type": "execute_result"
    }
   ],
   "source": [
    "df['drawings']"
   ]
  },
  {
   "cell_type": "code",
   "execution_count": 50,
   "metadata": {},
   "outputs": [],
   "source": [
    "#Let's look at one for now. \n",
    "import re\n",
    "responses = json.loads(df.iloc[0]['answers'])\n",
    "drawings = json.loads(df.iloc[0]['drawings'].replace(\"\\'\", \"\\\"\"))\n",
    "\n",
    "\n",
    "def extract_metric(drawing_name):\n",
    "    match = re.search(r'l(\\d+)', drawing_name)\n",
    "    return int(match.group(1)) if match else None\n",
    "\n",
    "data = []\n",
    "for row in range(df.shape[0]):\n",
    "    responses = json.loads(df.iloc[row]['answers'])\n",
    "    drawings = json.loads(df.iloc[row]['drawings'].replace(\"\\'\", \"\\\"\"))\n",
    "    for i, (pair, response) in enumerate(zip(drawings, responses)):\n",
    "        metric_1 = extract_metric(pair[0])\n",
    "        metric_2 = extract_metric(pair[1])\n",
    "        metric_diff = metric_2 - metric_1\n",
    "        \n",
    "        preferred_higher_metric = 1 if (response == 2 and metric_diff > 0) or (response == 1 and metric_diff < 0) else 0\n",
    "        \n",
    "        data.append({'metric_diff': abs(metric_diff), 'preferred_higher_metric': preferred_higher_metric})\n",
    "\n",
    "newdf = pd.DataFrame(data)"
   ]
  },
  {
   "cell_type": "markdown",
   "metadata": {},
   "source": [
    "## Hypothesis 1: The stress of a drawing effects participant preference\n",
    "Treat each response as independent trial. \n",
    "Define 0 to be a response with lower inverse stress\n",
    "Define 1 to be a response with higher inverse stress\n",
    "Determine if responses differ from a uniform random distribution (binomial test).\n",
    "Similar analyis to <a href=\"https://arxiv.org/abs/2008.04869\">Turing test for Graph Drawing</a> "
   ]
  },
  {
   "cell_type": "code",
   "execution_count": 51,
   "metadata": {},
   "outputs": [],
   "source": [
    "# #Accuracy column has 0 or 1 precomputed\n",
    "# responses = list()\n",
    "# for participant in df['accuracy'].to_list():\n",
    "#     responses.extend(json.loads(participant))\n",
    "# responses[:4]"
   ]
  },
  {
   "cell_type": "code",
   "execution_count": 52,
   "metadata": {},
   "outputs": [],
   "source": [
    "responses = newdf['preferred_higher_metric'].to_numpy()"
   ]
  },
  {
   "cell_type": "code",
   "execution_count": 53,
   "metadata": {},
   "outputs": [
    {
     "name": "stdout",
     "output_type": "stream",
     "text": [
      "Responses are significantly different from a random choice\n"
     ]
    }
   ],
   "source": [
    "from scipy.stats import binomtest\n",
    "\n",
    "pvalue = binomtest(\n",
    "    sum(responses),\n",
    "    len(responses),\n",
    "    p=0.5\n",
    ")\n",
    "\n",
    "if pvalue.pvalue < 0.05: print(\"Responses are significantly different from a random choice\")"
   ]
  },
  {
   "cell_type": "code",
   "execution_count": 54,
   "metadata": {},
   "outputs": [
    {
     "data": {
      "text/plain": [
       "0.696"
      ]
     },
     "execution_count": 54,
     "metadata": {},
     "output_type": "execute_result"
    }
   ],
   "source": [
    "sum(responses) / len(responses)"
   ]
  },
  {
   "cell_type": "markdown",
   "metadata": {},
   "source": [
    "Let's instead treat each participant at a different factor level"
   ]
  },
  {
   "cell_type": "code",
   "execution_count": 62,
   "metadata": {},
   "outputs": [],
   "source": [
    "data = dict()\n",
    "for row in range(df.shape[0]):\n",
    "    responses = json.loads(df.iloc[row]['answers'])\n",
    "    drawings = json.loads(df.iloc[row]['drawings'].replace(\"\\'\", \"\\\"\"))\n",
    "    \n",
    "    local_data = list()\n",
    "    for i, (pair, response) in enumerate(zip(drawings, responses)):\n",
    "        metric_1 = extract_metric(pair[0])\n",
    "        metric_2 = extract_metric(pair[1])\n",
    "        metric_diff = metric_2 - metric_1\n",
    "        \n",
    "        preferred_higher_metric = 1 if (response == 2 and metric_diff > 0) or (response == 1 and metric_diff < 0) else 0\n",
    "        \n",
    "        local_data.append(preferred_higher_metric)\n",
    "    \n",
    "    data[f'p{row}'] =  local_data\n",
    "\n",
    "\n",
    "newdf = pd.DataFrame(data)"
   ]
  },
  {
   "cell_type": "code",
   "execution_count": 64,
   "metadata": {},
   "outputs": [
    {
     "data": {
      "text/html": [
       "<div>\n",
       "<style scoped>\n",
       "    .dataframe tbody tr th:only-of-type {\n",
       "        vertical-align: middle;\n",
       "    }\n",
       "\n",
       "    .dataframe tbody tr th {\n",
       "        vertical-align: top;\n",
       "    }\n",
       "\n",
       "    .dataframe thead th {\n",
       "        text-align: right;\n",
       "    }\n",
       "</style>\n",
       "<table border=\"1\" class=\"dataframe\">\n",
       "  <thead>\n",
       "    <tr style=\"text-align: right;\">\n",
       "      <th></th>\n",
       "      <th>p0</th>\n",
       "      <th>p1</th>\n",
       "      <th>p2</th>\n",
       "      <th>p3</th>\n",
       "      <th>p4</th>\n",
       "      <th>p5</th>\n",
       "      <th>p6</th>\n",
       "      <th>p7</th>\n",
       "      <th>p8</th>\n",
       "      <th>p9</th>\n",
       "      <th>...</th>\n",
       "      <th>p15</th>\n",
       "      <th>p16</th>\n",
       "      <th>p17</th>\n",
       "      <th>p18</th>\n",
       "      <th>p19</th>\n",
       "      <th>p20</th>\n",
       "      <th>p21</th>\n",
       "      <th>p22</th>\n",
       "      <th>p23</th>\n",
       "      <th>p24</th>\n",
       "    </tr>\n",
       "  </thead>\n",
       "  <tbody>\n",
       "    <tr>\n",
       "      <th>0</th>\n",
       "      <td>1</td>\n",
       "      <td>1</td>\n",
       "      <td>1</td>\n",
       "      <td>1</td>\n",
       "      <td>1</td>\n",
       "      <td>1</td>\n",
       "      <td>0</td>\n",
       "      <td>1</td>\n",
       "      <td>1</td>\n",
       "      <td>1</td>\n",
       "      <td>...</td>\n",
       "      <td>0</td>\n",
       "      <td>0</td>\n",
       "      <td>0</td>\n",
       "      <td>0</td>\n",
       "      <td>1</td>\n",
       "      <td>1</td>\n",
       "      <td>1</td>\n",
       "      <td>1</td>\n",
       "      <td>1</td>\n",
       "      <td>1</td>\n",
       "    </tr>\n",
       "    <tr>\n",
       "      <th>1</th>\n",
       "      <td>1</td>\n",
       "      <td>1</td>\n",
       "      <td>1</td>\n",
       "      <td>1</td>\n",
       "      <td>1</td>\n",
       "      <td>0</td>\n",
       "      <td>1</td>\n",
       "      <td>0</td>\n",
       "      <td>1</td>\n",
       "      <td>1</td>\n",
       "      <td>...</td>\n",
       "      <td>0</td>\n",
       "      <td>1</td>\n",
       "      <td>0</td>\n",
       "      <td>0</td>\n",
       "      <td>0</td>\n",
       "      <td>1</td>\n",
       "      <td>1</td>\n",
       "      <td>0</td>\n",
       "      <td>0</td>\n",
       "      <td>1</td>\n",
       "    </tr>\n",
       "    <tr>\n",
       "      <th>2</th>\n",
       "      <td>1</td>\n",
       "      <td>0</td>\n",
       "      <td>1</td>\n",
       "      <td>0</td>\n",
       "      <td>0</td>\n",
       "      <td>1</td>\n",
       "      <td>1</td>\n",
       "      <td>1</td>\n",
       "      <td>0</td>\n",
       "      <td>0</td>\n",
       "      <td>...</td>\n",
       "      <td>0</td>\n",
       "      <td>0</td>\n",
       "      <td>1</td>\n",
       "      <td>0</td>\n",
       "      <td>0</td>\n",
       "      <td>1</td>\n",
       "      <td>1</td>\n",
       "      <td>0</td>\n",
       "      <td>1</td>\n",
       "      <td>1</td>\n",
       "    </tr>\n",
       "    <tr>\n",
       "      <th>3</th>\n",
       "      <td>1</td>\n",
       "      <td>1</td>\n",
       "      <td>1</td>\n",
       "      <td>1</td>\n",
       "      <td>1</td>\n",
       "      <td>1</td>\n",
       "      <td>1</td>\n",
       "      <td>1</td>\n",
       "      <td>0</td>\n",
       "      <td>1</td>\n",
       "      <td>...</td>\n",
       "      <td>1</td>\n",
       "      <td>1</td>\n",
       "      <td>0</td>\n",
       "      <td>1</td>\n",
       "      <td>1</td>\n",
       "      <td>1</td>\n",
       "      <td>1</td>\n",
       "      <td>1</td>\n",
       "      <td>1</td>\n",
       "      <td>1</td>\n",
       "    </tr>\n",
       "    <tr>\n",
       "      <th>4</th>\n",
       "      <td>1</td>\n",
       "      <td>1</td>\n",
       "      <td>1</td>\n",
       "      <td>1</td>\n",
       "      <td>0</td>\n",
       "      <td>1</td>\n",
       "      <td>0</td>\n",
       "      <td>1</td>\n",
       "      <td>1</td>\n",
       "      <td>1</td>\n",
       "      <td>...</td>\n",
       "      <td>0</td>\n",
       "      <td>1</td>\n",
       "      <td>1</td>\n",
       "      <td>0</td>\n",
       "      <td>1</td>\n",
       "      <td>1</td>\n",
       "      <td>0</td>\n",
       "      <td>1</td>\n",
       "      <td>1</td>\n",
       "      <td>1</td>\n",
       "    </tr>\n",
       "  </tbody>\n",
       "</table>\n",
       "<p>5 rows × 25 columns</p>\n",
       "</div>"
      ],
      "text/plain": [
       "   p0  p1  p2  p3  p4  p5  p6  p7  p8  p9  ...  p15  p16  p17  p18  p19  p20  \\\n",
       "0   1   1   1   1   1   1   0   1   1   1  ...    0    0    0    0    1    1   \n",
       "1   1   1   1   1   1   0   1   0   1   1  ...    0    1    0    0    0    1   \n",
       "2   1   0   1   0   0   1   1   1   0   0  ...    0    0    1    0    0    1   \n",
       "3   1   1   1   1   1   1   1   1   0   1  ...    1    1    0    1    1    1   \n",
       "4   1   1   1   1   0   1   0   1   1   1  ...    0    1    1    0    1    1   \n",
       "\n",
       "   p21  p22  p23  p24  \n",
       "0    1    1    1    1  \n",
       "1    1    0    0    1  \n",
       "2    1    0    1    1  \n",
       "3    1    1    1    1  \n",
       "4    0    1    1    1  \n",
       "\n",
       "[5 rows x 25 columns]"
      ]
     },
     "execution_count": 64,
     "metadata": {},
     "output_type": "execute_result"
    }
   ],
   "source": [
    "newdf.head()"
   ]
  },
  {
   "cell_type": "code",
   "execution_count": null,
   "metadata": {},
   "outputs": [
    {
     "data": {
      "text/plain": [
       "FriedmanchisquareResult(statistic=200.22043948378095, pvalue=9.478837764357417e-30)"
      ]
     },
     "execution_count": 65,
     "metadata": {},
     "output_type": "execute_result"
    }
   ],
   "source": [
    "from scipy.stats import friedmanchisquare\n",
    "result = friedmanchisquare(*[newdf[col] for col in newdf.columns])\n",
    "\n",
    "if result.pvalue < 0.05 / ((25 * 24) / 2):\n",
    "    print(\"Significant difference\")"
   ]
  },
  {
   "cell_type": "code",
   "execution_count": null,
   "metadata": {},
   "outputs": [],
   "source": []
  }
 ],
 "metadata": {
  "kernelspec": {
   "display_name": "gt",
   "language": "python",
   "name": "python3"
  },
  "language_info": {
   "codemirror_mode": {
    "name": "ipython",
    "version": 3
   },
   "file_extension": ".py",
   "mimetype": "text/x-python",
   "name": "python",
   "nbconvert_exporter": "python",
   "pygments_lexer": "ipython3",
   "version": "3.12.5"
  }
 },
 "nbformat": 4,
 "nbformat_minor": 2
}
