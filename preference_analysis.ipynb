{
 "cells": [
  {
   "cell_type": "code",
   "execution_count": 1,
   "metadata": {},
   "outputs": [],
   "source": [
    "import json \n",
    "import pandas as pd"
   ]
  },
  {
   "cell_type": "code",
   "execution_count": 18,
   "metadata": {},
   "outputs": [],
   "source": [
    "df = pd.read_csv(\"n10-cleaned.csv\")"
   ]
  },
  {
   "cell_type": "code",
   "execution_count": 19,
   "metadata": {},
   "outputs": [
    {
     "data": {
      "text/plain": [
       "(25, 18)"
      ]
     },
     "execution_count": 19,
     "metadata": {},
     "output_type": "execute_result"
    }
   ],
   "source": [
    "df.shape"
   ]
  },
  {
   "cell_type": "code",
   "execution_count": 20,
   "metadata": {},
   "outputs": [
    {
     "data": {
      "text/plain": [
       "0     [2, 1, 2, 2, 2, 2, 1, 1, 1, 1, 1, 1, 2, 2, 1, ...\n",
       "1     [1, 2, 2, 2, 2, 1, 1, 1, 1, 1, 2, 1, 2, 2, 1, ...\n",
       "2     [1, 1, 1, 2, 1, 1, 1, 1, 1, 2, 2, 2, 2, 2, 2, ...\n",
       "3     [2, 1, 2, 1, 2, 2, 2, 1, 1, 2, 1, 2, 1, 2, 2, ...\n",
       "4     [2, 1, 1, 1, 1, 2, 1, 1, 2, 1, 1, 1, 1, 2, 1, ...\n",
       "5     [1, 2, 1, 1, 2, 2, 1, 1, 2, 2, 2, 2, 1, 1, 1, ...\n",
       "6     [1, 1, 1, 1, 2, 1, 1, 2, 1, 2, 1, 2, 1, 1, 1, ...\n",
       "7     [2, 2, 2, 1, 2, 1, 1, 2, 2, 2, 1, 2, 2, 1, 2, ...\n",
       "8     [1, 2, 1, 1, 2, 1, 1, 2, 1, 1, 2, 1, 1, 1, 1, ...\n",
       "9     [1, 2, 2, 1, 1, 1, 1, 2, 2, 2, 1, 2, 1, 1, 1, ...\n",
       "10    [1, 2, 1, 2, 2, 1, 2, 2, 1, 2, 2, 2, 2, 2, 1, ...\n",
       "11    [1, 2, 1, 2, 2, 1, 2, 1, 2, 2, 2, 1, 1, 1, 1, ...\n",
       "12    [2, 1, 2, 1, 1, 2, 2, 1, 2, 1, 1, 2, 2, 1, 2, ...\n",
       "13    [1, 1, 2, 2, 1, 2, 2, 1, 1, 1, 2, 1, 1, 1, 1, ...\n",
       "14    [1, 2, 1, 1, 1, 1, 2, 1, 1, 2, 1, 2, 2, 1, 2, ...\n",
       "15    [1, 1, 2, 2, 1, 1, 1, 1, 1, 2, 1, 1, 1, 2, 1, ...\n",
       "16    [2, 1, 1, 1, 1, 2, 1, 2, 1, 2, 1, 2, 1, 2, 1, ...\n",
       "17    [1, 1, 2, 1, 2, 2, 1, 2, 1, 2, 1, 2, 1, 1, 1, ...\n",
       "18    [2, 1, 2, 2, 2, 1, 2, 1, 2, 2, 2, 2, 2, 1, 2, ...\n",
       "19    [2, 2, 1, 2, 1, 2, 2, 2, 2, 2, 1, 1, 2, 2, 1, ...\n",
       "20    [1, 1, 1, 1, 2, 1, 1, 2, 2, 1, 2, 1, 2, 1, 1, ...\n",
       "21    [1, 2, 2, 1, 2, 1, 2, 1, 1, 2, 2, 2, 1, 1, 2, ...\n",
       "22    [1, 2, 2, 2, 2, 1, 1, 1, 2, 1, 2, 2, 2, 2, 1, ...\n",
       "23    [2, 2, 2, 2, 2, 2, 2, 2, 1, 2, 2, 1, 1, 2, 1, ...\n",
       "24    [1, 2, 2, 1, 2, 1, 2, 2, 1, 2, 1, 2, 1, 2, 2, ...\n",
       "Name: answers, dtype: object"
      ]
     },
     "execution_count": 20,
     "metadata": {},
     "output_type": "execute_result"
    }
   ],
   "source": [
    "df['answers']"
   ]
  },
  {
   "cell_type": "code",
   "execution_count": 21,
   "metadata": {},
   "outputs": [
    {
     "data": {
      "text/plain": [
       "0     [['g4_l40_c', 'g4_l45_b'], ['g5_l70_a', 'g5_l6...\n",
       "1     [['g4_l80_b', 'g4_l40_a'], ['g4_l40_c', 'g4_l4...\n",
       "2     [['g2_l70_a', 'g2_l50_b'], ['g1_l75_a', 'g1_l4...\n",
       "3     [['g3_l40_b', 'g3_l50_c'], ['g5_l55_c', 'g5_l5...\n",
       "4     [['g3_l45_a', 'g3_l45_c'], ['g2_l55_b', 'g2_l4...\n",
       "5     [['g2_l55_a', 'g2_l55_b'], ['g4_l70_b', 'g4_l6...\n",
       "6     [['g1_l45_a', 'g1_l65_b'], ['g3_l45_c', 'g3_l7...\n",
       "7     [['g5_l65_b', 'g5_l70_a'], ['g4_l40_c', 'g4_l6...\n",
       "8     [['g1_l65_b', 'g1_l75_a'], ['g2_l45_b', 'g2_l7...\n",
       "9     [['g1_l40_c', 'g1_l50_a'], ['g2_l80_b', 'g2_l4...\n",
       "10    [['g3_l70_b', 'g3_l70_c'], ['g5_l40_a', 'g5_l8...\n",
       "11    [['g1_l80_c', 'g1_l40_b'], ['g3_l50_c', 'g3_l7...\n",
       "12    [['g2_l50_a', 'g2_l80_c'], ['g3_l80_c', 'g3_l6...\n",
       "13    [['g3_l80_b', 'g3_l40_c'], ['g5_l80_b', 'g5_l5...\n",
       "14    [['g5_l70_a', 'g5_l65_b'], ['g3_l45_c', 'g3_l7...\n",
       "15    [['g5_l50_c', 'g5_l45_b'], ['g2_l55_a', 'g2_l8...\n",
       "16    [['g2_l40_c', 'g2_l60_b'], ['g2_l75_b', 'g2_l4...\n",
       "17    [['g4_l80_a', 'g4_l50_c'], ['g3_l80_b', 'g3_l6...\n",
       "18    [['g4_l40_b', 'g4_l60_a'], ['g4_l55_c', 'g4_l5...\n",
       "19    [['g1_l70_a', 'g1_l70_c'], ['g5_l45_a', 'g5_l7...\n",
       "20    [['g1_l80_b', 'g1_l40_a'], ['g5_l80_b', 'g5_l6...\n",
       "21    [['g1_l70_a', 'g1_l60_b'], ['g4_l75_a', 'g4_l8...\n",
       "22    [['g5_l45_c', 'g5_l40_a'], ['g2_l50_c', 'g2_l4...\n",
       "23    [['g5_l65_c', 'g5_l65_b'], ['g1_l45_b', 'g1_l8...\n",
       "24    [['g1_l80_a', 'g1_l45_b'], ['g5_l75_a', 'g5_l8...\n",
       "Name: drawings, dtype: object"
      ]
     },
     "execution_count": 21,
     "metadata": {},
     "output_type": "execute_result"
    }
   ],
   "source": [
    "df['drawings']"
   ]
  },
  {
   "cell_type": "code",
   "execution_count": null,
   "metadata": {},
   "outputs": [],
   "source": [
    "#Let's look at one for now. \n",
    "import re\n",
    "responses = json.loads(df.iloc[0]['answers'])\n",
    "drawings = json.loads(df.iloc[0]['drawings'].replace(\"\\'\", \"\\\"\"))\n",
    "\n",
    "\n",
    "def extract_metric(drawing_name):\n",
    "    match = re.search(r'l(\\d+)', drawing_name)\n",
    "    return int(match.group(1)) if match else None\n",
    "\n",
    "data = []\n",
    "for i, (pair, response) in enumerate(zip(drawings, responses)):\n",
    "    metric_1 = extract_metric(pair[0])\n",
    "    metric_2 = extract_metric(pair[1])\n",
    "    metric_diff = metric_2 - metric_1\n",
    "    \n",
    "    preferred_higher_metric = 1 if (response == 2 and metric_diff > 0) or (response == 1 and metric_diff < 0) else 0\n",
    "    \n",
    "    data.append({'metric_diff': abs(metric_diff), 'preferred_higher_metric': preferred_higher_metric})\n",
    "\n",
    "df = pd.DataFrame(data)"
   ]
  },
  {
   "cell_type": "code",
   "execution_count": 41,
   "metadata": {},
   "outputs": [],
   "source": [
    "Z = df.to_numpy()\n",
    "X = Z[:,0]\n",
    "Y = Z[:,1]"
   ]
  },
  {
   "cell_type": "code",
   "execution_count": 42,
   "metadata": {},
   "outputs": [
    {
     "data": {
      "text/plain": [
       "WilcoxonResult(statistic=0.0, pvalue=3.4635104712502574e-08)"
      ]
     },
     "execution_count": 42,
     "metadata": {},
     "output_type": "execute_result"
    }
   ],
   "source": [
    "from scipy.stats import wilcoxon\n",
    "\n",
    "w = wilcoxon(X,Y)\n",
    "w"
   ]
  }
 ],
 "metadata": {
  "kernelspec": {
   "display_name": "gt",
   "language": "python",
   "name": "python3"
  },
  "language_info": {
   "codemirror_mode": {
    "name": "ipython",
    "version": 3
   },
   "file_extension": ".py",
   "mimetype": "text/x-python",
   "name": "python",
   "nbconvert_exporter": "python",
   "pygments_lexer": "ipython3",
   "version": "3.12.5"
  }
 },
 "nbformat": 4,
 "nbformat_minor": 2
}
