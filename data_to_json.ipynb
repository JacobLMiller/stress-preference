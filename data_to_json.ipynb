{
 "cells": [
  {
   "cell_type": "code",
   "execution_count": 104,
   "metadata": {},
   "outputs": [],
   "source": [
    "import pandas as pd \n",
    "import numpy as np \n",
    "import json "
   ]
  },
  {
   "cell_type": "code",
   "execution_count": 105,
   "metadata": {},
   "outputs": [],
   "source": [
    "#First, update accuracy for preference data\n",
    "def compute_preference_accuracy(df):\n",
    "    import re\n",
    "    responses = json.loads(df.iloc[0]['answers'])\n",
    "    drawings = json.loads(df.iloc[0]['drawings'].replace(\"\\'\", \"\\\"\"))\n",
    "\n",
    "\n",
    "    def extract_metric(drawing_name):\n",
    "        match = re.search(r'l(\\d+)', drawing_name)\n",
    "        return int(match.group(1)) if match else None\n",
    "\n",
    "    data = []\n",
    "    for row in range(df.shape[0]):\n",
    "        data.append([])\n",
    "        responses = json.loads(df.iloc[row]['answers'])\n",
    "        drawings = json.loads(df.iloc[row]['drawings'].replace(\"\\'\", \"\\\"\"))\n",
    "        for i, (pair, response) in enumerate(zip(drawings, responses)):\n",
    "            metric_1 = extract_metric(pair[0])\n",
    "            metric_2 = extract_metric(pair[1])\n",
    "            metric_diff = metric_2 - metric_1\n",
    "            \n",
    "            preferred_higher_metric = 1 if (response == 2 and metric_diff > 0) or (response == 1 and metric_diff < 0) else 0\n",
    "            \n",
    "            data[-1].append({'metric_diff': abs(metric_diff), 'accuracy': preferred_higher_metric})\n",
    "\n",
    "    return data"
   ]
  },
  {
   "cell_type": "markdown",
   "metadata": {},
   "source": [
    "Index(['Unnamed: 0', 'drawings', 'answers', 'time', 'strategy',\n",
    "       'overall_confidence', 'difficulty', 'familiarity', 'age', 'gender',\n",
    "       'Finished', 'prolific_id', 'StartDate', 'EndDate', 'stress_familiarity',\n",
    "       'correct_answers', 'deltas', 'accuracy']"
   ]
  },
  {
   "cell_type": "code",
   "execution_count": 106,
   "metadata": {},
   "outputs": [],
   "source": [
    "import os \n",
    "pname = 'cleaned_data/'\n",
    "for fname in os.listdir(pname):\n",
    "    df = pd.read_csv(f\"{pname}{fname}\",index_col=0)\n",
    "    df.to_json(f\"json_data/{fname.split('.')[0]}.json\",orient='records',indent=4)"
   ]
  },
  {
   "cell_type": "code",
   "execution_count": 107,
   "metadata": {},
   "outputs": [
    {
     "name": "stdout",
     "output_type": "stream",
     "text": [
      "nt_stress50-cleaned.json\n",
      "preference50-cleaned.json\n",
      "preference25-cleaned.json\n",
      "stress25-cleaned.json\n",
      "stress50-cleaned.json\n",
      "nt_stress10-cleaned.json\n",
      "preference10-cleaned.json\n",
      "stress_expert-cleaned.json\n",
      "stress10-cleaned.json\n",
      "nt_stress25-cleaned.json\n"
     ]
    }
   ],
   "source": [
    "pname = 'json_data/'\n",
    "for fname in os.listdir(pname):\n",
    "    print(fname)\n",
    "    with open(pname + fname, 'r') as fdata:\n",
    "        data = json.load(fdata)\n",
    "\n",
    "    if 'expert' not in fname:\n",
    "        for participant in data:\n",
    "            #parse lists we might want to use later\n",
    "            for key in ['drawings', 'answers', 'confidence', 'time', 'accuracy']:\n",
    "                if key in participant:\n",
    "                    participant[key] = json.loads(participant[key].replace('\\'', '\\\"'))\n",
    "\n",
    "    with open(pname + fname, 'w') as fdata:\n",
    "        json.dump(data,fdata,indent=4)"
   ]
  },
  {
   "cell_type": "code",
   "execution_count": 108,
   "metadata": {},
   "outputs": [],
   "source": [
    "with open(\"json_data/stress_expert-cleaned.json\", 'r') as fdata:\n",
    "    data = json.load(fdata)\n",
    "\n",
    "for p in data:\n",
    "    for n in [10,25,50]:\n",
    "        p[n] = {\n",
    "            'drawings': json.loads(p[f'drawings{n}'].replace('\\'', '\\\"')),\n",
    "            'time': json.loads(p[f'time{n}']),\n",
    "            'accuracy': json.loads(p[f'accuracy{n}'])\n",
    "        }\n",
    "\n",
    "with open(\"json_data/stress_expert-cleaned.json\", 'w') as fdata:\n",
    "    json.dump(data,fdata,indent=4)"
   ]
  },
  {
   "cell_type": "code",
   "execution_count": 109,
   "metadata": {},
   "outputs": [],
   "source": [
    "#Correct accuracy for preference\n",
    "for n in [10,25,50]:\n",
    "    with open(f\"json_data/preference{n}-cleaned.json\", 'r') as fdata:\n",
    "        data = json.load(fdata)\n",
    "    \n",
    "    # for p in data:\n",
    "    #     acc = list()\n",
    "    #     same_stress = list()\n",
    "    #     for i,pair in enumerate(p['drawings']):\n",
    "    #         left, right = pair \n",
    "    #         left = int(left.split(\"_\")[1].replace(\"l\",''))\n",
    "    #         right = int(right.split(\"_\")[1].replace(\"l\",''))\n",
    "\n",
    "    #         if left > right: acc.append(1 if p['answers'][i] == 1 else 0)\n",
    "    #         elif left < right: acc.append(1 if p['answers'][i] == 2 else 0)\n",
    "    #         else: acc.append(0)\n",
    "\n",
    "    #     p['drawings'] = [d for i,d in enumerate(p['drawings']) if i not in same_stress]        \n",
    "    #     p['accuracy'] = acc\n",
    "    \n",
    "    with open(f\"json_data/preference{n}-cleaned.json\", 'w') as fdata:\n",
    "        json.dump(data,fdata,indent=4)"
   ]
  },
  {
   "cell_type": "code",
   "execution_count": 110,
   "metadata": {},
   "outputs": [],
   "source": [
    "n = 10"
   ]
  },
  {
   "cell_type": "code",
   "execution_count": 111,
   "metadata": {},
   "outputs": [],
   "source": [
    "from collections import defaultdict \n",
    "stresstest = defaultdict(list)\n",
    "stressdelta = defaultdict(list)\n",
    "\n",
    "with open(f'json_data/stress{n}-cleaned.json', 'r') as fdata:\n",
    "    data = json.load(fdata)\n",
    "\n",
    "for p in data:\n",
    "    for i,d in enumerate(p['drawings']):\n",
    "        stresstest[tuple(sorted(d))].append(p['accuracy'][i])\n",
    "\n",
    "        d1,d2 = d \n",
    "        n1 = int(d1.split(\"_\")[1].replace(\"l\",\"\"))\n",
    "        n2 = int(d2.split(\"_\")[1].replace(\"l\",\"\"))\n",
    "        delta = abs(n1-n2)\n",
    "\n",
    "        stressdelta[delta].append(p['accuracy'][i])\n"
   ]
  },
  {
   "cell_type": "code",
   "execution_count": 124,
   "metadata": {},
   "outputs": [],
   "source": [
    "preftest = defaultdict(list)\n",
    "prefdelta = defaultdict(list)\n",
    "prefcount = defaultdict(complex)\n",
    "\n",
    "with open(f'json_data/preference{n}-cleaned.json', 'r') as fdata:\n",
    "    data = json.load(fdata)\n",
    "\n",
    "for i,p in enumerate(data):\n",
    "    for j,d in enumerate(p['drawings']):\n",
    "        preftest[tuple(sorted(d))].append(p['accuracy'][i])\n",
    "\n",
    "        d1,d2 = d \n",
    "        n1 = int(d1.split(\"_\")[1].replace(\"l\",\"\"))\n",
    "        n2 = int(d2.split(\"_\")[1].replace(\"l\",\"\"))\n",
    "        delta = abs(n1-n2)\n",
    "\n",
    "        prefdelta[delta].append(p['accuracy'][i])\n",
    "\n",
    "        prefcount[d1] += 1j \n",
    "        prefcount[d2] += 1j\n",
    "\n",
    "        if p[\"answers\"][j] == 1: prefcount[d1] += 1 \n",
    "        if p['answers'][j] == 2: prefcount[d2] += 1 "
   ]
  },
  {
   "cell_type": "code",
   "execution_count": 125,
   "metadata": {},
   "outputs": [],
   "source": [
    "combined = dict()\n",
    "\n",
    "for k1 in stresstest.keys():\n",
    "    if k1 in preftest: \n",
    "        combined[str(k1)] = {\n",
    "            \"stress\": stresstest[k1],\n",
    "            \"preference\": preftest[k1]\n",
    "        }\n"
   ]
  },
  {
   "cell_type": "code",
   "execution_count": 126,
   "metadata": {},
   "outputs": [],
   "source": [
    "with open(\"dump.json\", 'w') as fdata:\n",
    "    json.dump(combined,fdata,indent=4)"
   ]
  },
  {
   "cell_type": "code",
   "execution_count": 127,
   "metadata": {},
   "outputs": [
    {
     "name": "stdout",
     "output_type": "stream",
     "text": [
      "Pearson Correlation: 0.006888194030929121\n",
      "P-value: 0.8909031249679069\n"
     ]
    }
   ],
   "source": [
    "from scipy.stats import pearsonr\n",
    "\n",
    "data = combined\n",
    "\n",
    "# Initialize lists for averages\n",
    "stress_averages = []\n",
    "preference_averages = []\n",
    "\n",
    "# Iterate over each entry\n",
    "for key, value in data.items():\n",
    "    # Compute averages\n",
    "    stress_avg = np.mean(value['stress']) if value['stress'] else None\n",
    "    preference_avg = np.mean(value['preference']) if value['preference'] else None\n",
    "\n",
    "    # Skip entries where averages cannot be calculated\n",
    "    if stress_avg is not None and preference_avg is not None:\n",
    "        stress_averages.append(stress_avg)\n",
    "        preference_averages.append(preference_avg)\n",
    "\n",
    "# Compute Pearson correlation\n",
    "correlation, p_value = pearsonr(stress_averages, preference_averages)\n",
    "\n",
    "print(f\"Pearson Correlation: {correlation}\")\n",
    "print(f\"P-value: {p_value}\")"
   ]
  },
  {
   "cell_type": "code",
   "execution_count": 128,
   "metadata": {},
   "outputs": [],
   "source": [
    "import pylab as plt"
   ]
  },
  {
   "cell_type": "code",
   "execution_count": 129,
   "metadata": {},
   "outputs": [
    {
     "data": {
      "text/plain": [
       "<matplotlib.collections.PathCollection at 0x7b9dc9181fa0>"
      ]
     },
     "execution_count": 129,
     "metadata": {},
     "output_type": "execute_result"
    },
    {
     "data": {
      "image/png": "[encoded data removed]",
      "text/plain": [
       "<Figure size 640x480 with 1 Axes>"
      ]
     },
     "metadata": {},
     "output_type": "display_data"
    }
   ],
   "source": [
    "plt.scatter(stress_averages, preference_averages)"
   ]
  },
  {
   "cell_type": "code",
   "execution_count": 130,
   "metadata": {},
   "outputs": [
    {
     "name": "stdout",
     "output_type": "stream",
     "text": [
      "10 125 125\n",
      "35 125 125\n",
      "25 125 125\n",
      "15 125 125\n",
      "40 125 125\n",
      "30 125 125\n",
      "5 125 125\n",
      "0 125 125\n",
      "20 125 125\n"
     ]
    }
   ],
   "source": [
    "for key in stressdelta.keys():\n",
    "    print(key, len(stressdelta[key]), len(prefdelta[key]))"
   ]
  },
  {
   "cell_type": "code",
   "execution_count": 131,
   "metadata": {},
   "outputs": [],
   "source": [
    "def draw(table, ax):\n",
    "    # Define labels for groups and categories\n",
    "    groups = ['Stress', \"Preference\"]\n",
    "    categories = ['Successes', 'Failures']\n",
    "\n",
    "    # Transpose data to stack categories for each group\n",
    "    stacked_data = table.T\n",
    "\n",
    "    # Create a stacked bar chart\n",
    "    x = np.arange(len(groups))  # Group positions on x-axis\n",
    "\n",
    "    # Plot each category\n",
    "    for i, category_data in enumerate(stacked_data):\n",
    "        ax.bar(x, category_data, label=categories[i], bottom=stacked_data[:i].sum(axis=0))\n",
    "\n",
    "    # Add labels, title, and legend\n",
    "    ax.set_xticks(x)\n",
    "    ax.set_yticks([])\n",
    "    ax.set_xticklabels(groups)\n",
    "    # ax.set_ylabel('Frequency')\n",
    "    # ax.set_title('Stacked Bar Chart of Successes and Failures')\n",
    "    # ax.legend(title='Category')\n",
    "\n",
    "    return ax"
   ]
  },
  {
   "cell_type": "code",
   "execution_count": 132,
   "metadata": {},
   "outputs": [
    {
     "name": "stdout",
     "output_type": "stream",
     "text": [
      "delta = 5\n",
      "4.348102266851143e-05\n",
      "\n",
      "delta = 10\n",
      "0.002637964114690837\n",
      "\n",
      "delta = 15\n",
      "0.6440355495814412\n",
      "\n",
      "delta = 20\n",
      "0.05360820959702078\n",
      "\n",
      "delta = 25\n",
      "0.02306105410219904\n",
      "\n",
      "delta = 30\n",
      "0.014350893249351652\n",
      "\n",
      "delta = 35\n",
      "6.4226746244641e-05\n",
      "\n",
      "delta = 40\n",
      "0.001432290465813642\n",
      "\n"
     ]
    },
    {
     "data": {
      "image/png": "[encoded data removed]",
      "text/plain": [
       "<Figure size 2000x250 with 8 Axes>"
      ]
     },
     "metadata": {},
     "output_type": "display_data"
    }
   ],
   "source": [
    "from scipy.stats import binomtest,chi2_contingency\n",
    "import pylab as plt\n",
    "fig, axes = plt.subplots(1,8)\n",
    "for delta, ax in zip(range(5,41,5), axes):\n",
    "    print(f\"delta = {delta}\")\n",
    "    stress0 = stressdelta[delta].count(0)\n",
    "    stress1 = stressdelta[delta].count(1)\n",
    "    pref0   = prefdelta[delta].count(0)\n",
    "    pref1   = prefdelta[delta].count(1)\n",
    "\n",
    "    ctable = np.array([\n",
    "        [stress0, stress1], \n",
    "        [pref0, pref1]\n",
    "    ])\n",
    "\n",
    "    res = chi2_contingency(ctable)\n",
    "    print(res.pvalue)\n",
    "    print()\n",
    "\n",
    "    draw(ctable,ax)\n",
    "    ax.set_title(f\"delta={delta}\")\n",
    "\n",
    "ax = axes[0]\n",
    "ax.set_yticks(np.linspace(0,125,6,dtype=int))\n",
    "ax.legend()\n",
    "\n",
    "\n",
    "\n",
    "fig.set_size_inches(20,20/8)\n",
    "fig.savefig(\"test.png\")"
   ]
  },
  {
   "cell_type": "code",
   "execution_count": 133,
   "metadata": {},
   "outputs": [
    {
     "data": {
      "text/plain": [
       "{'g4_l40_c': {'x': 0.3235294117647059, 'y': 0.4, 'selected': 11, 'seen': 34},\n",
       " 'g4_l45_b': {'x': 0.25, 'y': 0.45, 'selected': 3, 'seen': 12},\n",
       " 'g5_l70_a': {'x': 0.85, 'y': 0.7, 'selected': 17, 'seen': 20},\n",
       " 'g5_l65_c': {'x': 0.4666666666666667, 'y': 0.65, 'selected': 7, 'seen': 15},\n",
       " 'g2_l50_c': {'x': 0.19047619047619047, 'y': 0.5, 'selected': 4, 'seen': 21},\n",
       " 'g2_l60_b': {'x': 0.47058823529411764, 'y': 0.6, 'selected': 8, 'seen': 17},\n",
       " 'g5_l50_b': {'x': 0.2222222222222222, 'y': 0.5, 'selected': 4, 'seen': 18},\n",
       " 'g5_l80_a': {'x': 0.6842105263157895, 'y': 0.8, 'selected': 13, 'seen': 19},\n",
       " 'g2_l50_b': {'x': 0.0, 'y': 0.5, 'selected': 0, 'seen': 9},\n",
       " 'g2_l70_c': {'x': 0.9411764705882353, 'y': 0.7, 'selected': 16, 'seen': 17},\n",
       " 'g1_l55_a': {'x': 0.18181818181818182, 'y': 0.55, 'selected': 2, 'seen': 11},\n",
       " 'g1_l55_c': {'x': 0.8181818181818182, 'y': 0.55, 'selected': 9, 'seen': 11},\n",
       " 'g2_l40_b': {'x': 0.08333333333333333, 'y': 0.4, 'selected': 2, 'seen': 24},\n",
       " 'g2_l75_a': {'x': 0.8, 'y': 0.75, 'selected': 12, 'seen': 15},\n",
       " 'g4_l80_c': {'x': 0.8947368421052632, 'y': 0.8, 'selected': 17, 'seen': 19},\n",
       " 'g4_l40_b': {'x': 0.3333333333333333, 'y': 0.4, 'selected': 6, 'seen': 18},\n",
       " 'g3_l45_c': {'x': 0.4444444444444444, 'y': 0.45, 'selected': 8, 'seen': 18},\n",
       " 'g3_l60_a': {'x': 0.3125, 'y': 0.6, 'selected': 5, 'seen': 16},\n",
       " 'g4_l60_c': {'x': 0.4444444444444444, 'y': 0.6, 'selected': 4, 'seen': 9},\n",
       " 'g4_l40_a': {'x': 0.14285714285714285, 'y': 0.4, 'selected': 5, 'seen': 35},\n",
       " 'g2_l40_c': {'x': 0.43478260869565216, 'y': 0.4, 'selected': 10, 'seen': 23},\n",
       " 'g2_l80_b': {'x': 0.5357142857142857, 'y': 0.8, 'selected': 15, 'seen': 28},\n",
       " 'g3_l55_b': {'x': 0.6, 'y': 0.55, 'selected': 6, 'seen': 10},\n",
       " 'g3_l75_c': {'x': 0.9411764705882353, 'y': 0.75, 'selected': 16, 'seen': 17},\n",
       " 'g5_l40_a': {'x': 0.09375, 'y': 0.4, 'selected': 3, 'seen': 32},\n",
       " 'g5_l50_c': {'x': 0.5263157894736842, 'y': 0.5, 'selected': 10, 'seen': 19},\n",
       " 'g5_l45_b': {'x': 0.05263157894736842, 'y': 0.45, 'selected': 1, 'seen': 19},\n",
       " 'g3_l70_c': {'x': 0.7142857142857143, 'y': 0.7, 'selected': 10, 'seen': 14},\n",
       " 'g3_l45_b': {'x': 0.4, 'y': 0.45, 'selected': 6, 'seen': 15},\n",
       " 'g1_l50_a': {'x': 0.2, 'y': 0.5, 'selected': 2, 'seen': 10},\n",
       " 'g3_l80_a': {'x': 0.6086956521739131, 'y': 0.8, 'selected': 14, 'seen': 23},\n",
       " 'g1_l70_a': {'x': 0.36363636363636365, 'y': 0.7, 'selected': 4, 'seen': 11},\n",
       " 'g1_l55_b': {'x': 0.4375, 'y': 0.55, 'selected': 7, 'seen': 16},\n",
       " 'g2_l55_a': {'x': 0.6153846153846154, 'y': 0.55, 'selected': 8, 'seen': 13},\n",
       " 'g2_l75_c': {'x': 0.6153846153846154, 'y': 0.75, 'selected': 8, 'seen': 13},\n",
       " 'g2_l70_a': {'x': 0.5333333333333333, 'y': 0.7, 'selected': 8, 'seen': 15},\n",
       " 'g4_l65_a': {'x': 0.5, 'y': 0.65, 'selected': 4, 'seen': 8},\n",
       " 'g4_l50_b': {'x': 0.15384615384615385, 'y': 0.5, 'selected': 2, 'seen': 13},\n",
       " 'g5_l75_c': {'x': 0.9285714285714286, 'y': 0.75, 'selected': 13, 'seen': 14},\n",
       " 'g5_l40_b': {'x': 0.23809523809523808, 'y': 0.4, 'selected': 5, 'seen': 21},\n",
       " 'g2_l45_a': {'x': 0.0625, 'y': 0.45, 'selected': 1, 'seen': 16},\n",
       " 'g3_l80_c': {'x': 1.0, 'y': 0.8, 'selected': 15, 'seen': 15},\n",
       " 'g3_l40_b': {'x': 0.10526315789473684, 'y': 0.4, 'selected': 2, 'seen': 19},\n",
       " 'g5_l40_c': {'x': 0.23529411764705882, 'y': 0.4, 'selected': 4, 'seen': 17},\n",
       " 'g5_l80_b': {'x': 0.8333333333333334, 'y': 0.8, 'selected': 20, 'seen': 24},\n",
       " 'g4_l75_c': {'x': 0.8095238095238095, 'y': 0.75, 'selected': 17, 'seen': 21},\n",
       " 'g4_l45_a': {'x': 0.2631578947368421, 'y': 0.45, 'selected': 5, 'seen': 19},\n",
       " 'g2_l50_a': {'x': 0.17647058823529413, 'y': 0.5, 'selected': 3, 'seen': 17},\n",
       " 'g1_l80_b': {'x': 0.9, 'y': 0.8, 'selected': 18, 'seen': 20},\n",
       " 'g1_l50_c': {'x': 0.6666666666666666, 'y': 0.5, 'selected': 8, 'seen': 12},\n",
       " 'g5_l60_c': {'x': 0.8666666666666667, 'y': 0.6, 'selected': 13, 'seen': 15},\n",
       " 'g5_l60_a': {'x': 0.3076923076923077, 'y': 0.6, 'selected': 4, 'seen': 13},\n",
       " 'g5_l55_a': {'x': 0.5454545454545454, 'y': 0.55, 'selected': 6, 'seen': 11},\n",
       " 'g5_l70_b': {'x': 0.5, 'y': 0.7, 'selected': 4, 'seen': 8},\n",
       " 'g2_l40_a': {'x': 0.64, 'y': 0.4, 'selected': 16, 'seen': 25},\n",
       " 'g2_l70_b': {'x': 0.5833333333333334, 'y': 0.7, 'selected': 7, 'seen': 12},\n",
       " 'g1_l40_a': {'x': 0.14285714285714285, 'y': 0.4, 'selected': 4, 'seen': 28},\n",
       " 'g1_l75_c': {'x': 0.5714285714285714, 'y': 0.75, 'selected': 8, 'seen': 14},\n",
       " 'g1_l65_a': {'x': 0.7647058823529411, 'y': 0.65, 'selected': 13, 'seen': 17},\n",
       " 'g1_l45_b': {'x': 0.17391304347826086, 'y': 0.45, 'selected': 4, 'seen': 23},\n",
       " 'g4_l55_b': {'x': 0.1875, 'y': 0.55, 'selected': 3, 'seen': 16},\n",
       " 'g4_l70_c': {'x': 0.6153846153846154, 'y': 0.7, 'selected': 8, 'seen': 13},\n",
       " 'g3_l50_b': {'x': 0.25, 'y': 0.5, 'selected': 2, 'seen': 8},\n",
       " 'g3_l60_c': {'x': 0.5333333333333333, 'y': 0.6, 'selected': 8, 'seen': 15},\n",
       " 'g3_l50_c': {'x': 0.17391304347826086, 'y': 0.5, 'selected': 4, 'seen': 23},\n",
       " 'g1_l45_c': {'x': 0.3333333333333333, 'y': 0.45, 'selected': 5, 'seen': 15},\n",
       " 'g4_l75_a': {'x': 0.7058823529411765, 'y': 0.75, 'selected': 12, 'seen': 17},\n",
       " 'g4_l80_b': {'x': 0.9230769230769231, 'y': 0.8, 'selected': 24, 'seen': 26},\n",
       " 'g5_l45_a': {'x': 0.1875, 'y': 0.45, 'selected': 3, 'seen': 16},\n",
       " 'g2_l65_a': {'x': 0.7142857142857143, 'y': 0.65, 'selected': 10, 'seen': 14},\n",
       " 'g1_l80_c': {'x': 0.8571428571428571, 'y': 0.8, 'selected': 18, 'seen': 21},\n",
       " 'g1_l50_b': {'x': 0.0, 'y': 0.5, 'selected': 0, 'seen': 11},\n",
       " 'g3_l80_b': {'x': 0.9655172413793104, 'y': 0.8, 'selected': 28, 'seen': 29},\n",
       " 'g2_l60_a': {'x': 0.625, 'y': 0.6, 'selected': 5, 'seen': 8},\n",
       " 'g2_l45_c': {'x': 0.20833333333333334, 'y': 0.45, 'selected': 5, 'seen': 24},\n",
       " 'g5_l60_b': {'x': 0.46153846153846156, 'y': 0.6, 'selected': 6, 'seen': 13},\n",
       " 'g5_l70_c': {'x': 0.7, 'y': 0.7, 'selected': 14, 'seen': 20},\n",
       " 'g2_l65_c': {'x': 0.5, 'y': 0.65, 'selected': 7, 'seen': 14},\n",
       " 'g1_l70_b': {'x': 0.5625, 'y': 0.7, 'selected': 9, 'seen': 16},\n",
       " 'g1_l70_c': {'x': 0.6666666666666666, 'y': 0.7, 'selected': 8, 'seen': 12},\n",
       " 'g1_l75_b': {'x': 0.6470588235294118, 'y': 0.75, 'selected': 11, 'seen': 17},\n",
       " 'g1_l80_a': {'x': 0.8666666666666667, 'y': 0.8, 'selected': 26, 'seen': 30},\n",
       " 'g1_l40_b': {'x': 0.23809523809523808, 'y': 0.4, 'selected': 5, 'seen': 21},\n",
       " 'g1_l65_c': {'x': 0.6470588235294118, 'y': 0.65, 'selected': 11, 'seen': 17},\n",
       " 'g1_l75_a': {'x': 0.8636363636363636, 'y': 0.75, 'selected': 19, 'seen': 22},\n",
       " 'g5_l45_c': {'x': 0.4, 'y': 0.45, 'selected': 6, 'seen': 15},\n",
       " 'g4_l60_a': {'x': 0.7272727272727273, 'y': 0.6, 'selected': 8, 'seen': 11},\n",
       " 'g4_l45_c': {'x': 0.23076923076923078, 'y': 0.45, 'selected': 3, 'seen': 13},\n",
       " 'g3_l55_a': {'x': 0.16666666666666666, 'y': 0.55, 'selected': 1, 'seen': 6},\n",
       " 'g5_l65_a': {'x': 0.75, 'y': 0.65, 'selected': 6, 'seen': 8},\n",
       " 'g5_l80_c': {'x': 0.9047619047619048, 'y': 0.8, 'selected': 19, 'seen': 21},\n",
       " 'g2_l45_b': {'x': 0.17647058823529413, 'y': 0.45, 'selected': 3, 'seen': 17},\n",
       " 'g2_l80_c': {'x': 0.8461538461538461, 'y': 0.8, 'selected': 22, 'seen': 26},\n",
       " 'g2_l75_b': {'x': 0.8666666666666667, 'y': 0.75, 'selected': 13, 'seen': 15},\n",
       " 'g2_l80_a': {'x': 0.8571428571428571, 'y': 0.8, 'selected': 18, 'seen': 21},\n",
       " 'g4_l70_a': {'x': 0.45454545454545453, 'y': 0.7, 'selected': 5, 'seen': 11},\n",
       " 'g3_l50_a': {'x': 0.2222222222222222, 'y': 0.5, 'selected': 2, 'seen': 9},\n",
       " 'g3_l65_b': {'x': 0.8888888888888888, 'y': 0.65, 'selected': 16, 'seen': 18},\n",
       " 'g3_l75_a': {'x': 0.7, 'y': 0.75, 'selected': 14, 'seen': 20},\n",
       " 'g3_l40_c': {'x': 0.07692307692307693, 'y': 0.4, 'selected': 2, 'seen': 26},\n",
       " 'g3_l75_b': {'x': 0.8076923076923077, 'y': 0.75, 'selected': 21, 'seen': 26},\n",
       " 'g4_l50_c': {'x': 0.4166666666666667, 'y': 0.5, 'selected': 5, 'seen': 12},\n",
       " 'g2_l60_c': {'x': 0.36363636363636365, 'y': 0.6, 'selected': 4, 'seen': 11},\n",
       " 'g2_l65_b': {'x': 0.7272727272727273, 'y': 0.65, 'selected': 8, 'seen': 11},\n",
       " 'g3_l70_b': {'x': 0.72, 'y': 0.7, 'selected': 18, 'seen': 25},\n",
       " 'g2_l55_c': {'x': 0.5384615384615384, 'y': 0.55, 'selected': 7, 'seen': 13},\n",
       " 'g4_l65_b': {'x': 0.8, 'y': 0.65, 'selected': 12, 'seen': 15},\n",
       " 'g4_l80_a': {'x': 0.8, 'y': 0.8, 'selected': 12, 'seen': 15},\n",
       " 'g3_l40_a': {'x': 0.36, 'y': 0.4, 'selected': 9, 'seen': 25},\n",
       " 'g1_l65_b': {'x': 0.3076923076923077, 'y': 0.65, 'selected': 4, 'seen': 13},\n",
       " 'g4_l75_b': {'x': 0.7272727272727273, 'y': 0.75, 'selected': 16, 'seen': 22},\n",
       " 'g4_l70_b': {'x': 0.8571428571428571, 'y': 0.7, 'selected': 12, 'seen': 14},\n",
       " 'g4_l55_c': {'x': 0.46153846153846156, 'y': 0.55, 'selected': 6, 'seen': 13},\n",
       " 'g1_l40_c': {'x': 0.17857142857142858, 'y': 0.4, 'selected': 5, 'seen': 28},\n",
       " 'g1_l60_c': {'x': 0.5, 'y': 0.6, 'selected': 7, 'seen': 14},\n",
       " 'g5_l75_a': {'x': 0.782608695652174, 'y': 0.75, 'selected': 18, 'seen': 23},\n",
       " 'g1_l60_a': {'x': 0.7142857142857143, 'y': 0.6, 'selected': 10, 'seen': 14},\n",
       " 'g3_l65_c': {'x': 0.16666666666666666, 'y': 0.65, 'selected': 2, 'seen': 12},\n",
       " 'g5_l55_c': {'x': 0.46153846153846156, 'y': 0.55, 'selected': 6, 'seen': 13},\n",
       " 'g3_l45_a': {'x': 0.05555555555555555, 'y': 0.45, 'selected': 1, 'seen': 18},\n",
       " 'g4_l65_c': {'x': 0.5, 'y': 0.65, 'selected': 7, 'seen': 14},\n",
       " 'g5_l50_a': {'x': 0.0, 'y': 0.5, 'selected': 0, 'seen': 12},\n",
       " 'g1_l45_a': {'x': 0.21428571428571427, 'y': 0.45, 'selected': 3, 'seen': 14},\n",
       " 'g5_l55_b': {'x': 0.4, 'y': 0.55, 'selected': 4, 'seen': 10},\n",
       " 'g3_l55_c': {'x': 0.21052631578947367, 'y': 0.55, 'selected': 4, 'seen': 19},\n",
       " 'g4_l50_a': {'x': 0.22727272727272727, 'y': 0.5, 'selected': 5, 'seen': 22},\n",
       " 'g2_l55_b': {'x': 0.45454545454545453, 'y': 0.55, 'selected': 5, 'seen': 11},\n",
       " 'g3_l70_a': {'x': 0.0, 'y': 0.7, 'selected': 0, 'seen': 6},\n",
       " 'g5_l65_b': {'x': 0.4444444444444444, 'y': 0.65, 'selected': 8, 'seen': 18},\n",
       " 'g5_l75_b': {'x': 0.6875, 'y': 0.75, 'selected': 11, 'seen': 16},\n",
       " 'g3_l65_a': {'x': 0.4444444444444444, 'y': 0.65, 'selected': 4, 'seen': 9},\n",
       " 'g3_l60_b': {'x': 0.7777777777777778, 'y': 0.6, 'selected': 7, 'seen': 9},\n",
       " 'g4_l60_b': {'x': 0.5714285714285714, 'y': 0.6, 'selected': 8, 'seen': 14},\n",
       " 'g4_l55_a': {'x': 0.35714285714285715, 'y': 0.55, 'selected': 5, 'seen': 14},\n",
       " 'g1_l60_b': {'x': 0.4166666666666667, 'y': 0.6, 'selected': 5, 'seen': 12}}"
      ]
     },
     "execution_count": 133,
     "metadata": {},
     "output_type": "execute_result"
    }
   ],
   "source": [
    "xy = {key: {\n",
    "    'x': val.real / val.imag, \n",
    "    'y': int(key.split(\"_\")[1].replace(\"l\", \"\")) / 100, \n",
    "    'selected': int(val.real),\n",
    "    'seen': int(val.imag), \n",
    "} for key,val in prefcount.items()}\n",
    "\n",
    "xy"
   ]
  },
  {
   "cell_type": "code",
   "execution_count": null,
   "metadata": {},
   "outputs": [
    {
     "data": {
      "text/plain": [
       "Text(0, 0.5, 'KSM')"
      ]
     },
     "execution_count": 139,
     "metadata": {},
     "output_type": "execute_result"
    },
    {
     "data": {
      "image/png": "[encoded data removed]",
      "text/plain": [
       "<Figure size 640x480 with 1 Axes>"
      ]
     },
     "metadata": {},
     "output_type": "display_data"
    }
   ],
   "source": [
    "x = [v['x'] for v in xy.values()]\n",
    "y = [v['y'] for v in xy.values()]\n",
    "\n",
    "plt.scatter(x,y)\n",
    "plt.suptitle(f\"Correlation {0.77}\")\n",
    "plt.xlabel(\"Preference ratio\")\n",
    "plt.ylabel(\"KSM\")\n",
    "plt.savefig(\"correlation.png\")"
   ]
  },
  {
   "cell_type": "code",
   "execution_count": null,
   "metadata": {},
   "outputs": [
    {
     "data": {
      "text/plain": [
       "PearsonRResult(statistic=0.7727180836986041, pvalue=4.956044178328492e-28)"
      ]
     },
     "execution_count": 137,
     "metadata": {},
     "output_type": "execute_result"
    }
   ],
   "source": [
    "r = pearsonr(x,y).statistic\n"
   ]
  }
 ],
 "metadata": {
  "kernelspec": {
   "display_name": "gt",
   "language": "python",
   "name": "python3"
  },
  "language_info": {
   "codemirror_mode": {
    "name": "ipython",
    "version": 3
   },
   "file_extension": ".py",
   "mimetype": "text/x-python",
   "name": "python",
   "nbconvert_exporter": "python",
   "pygments_lexer": "ipython3",
   "version": "3.12.5"
  }
 },
 "nbformat": 4,
 "nbformat_minor": 2
}
